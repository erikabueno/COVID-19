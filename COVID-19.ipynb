{
 "cells": [
  {
   "cell_type": "code",
   "execution_count": 1,
   "metadata": {},
   "outputs": [],
   "source": [
    "import requests\n",
    "from bs4 import BeautifulSoup\n",
    "import pandas as pd"
   ]
  },
  {
   "cell_type": "code",
   "execution_count": 27,
   "metadata": {},
   "outputs": [],
   "source": [
    "def get_soup(url):\n",
    "    response = requests.get(url)\n",
    "    soup = BeautifulSoup(response.content, 'html.parser')\n",
    "    return (soup.find_all('thead'), soup.find_all('tbody'))"
   ]
  },
  {
   "cell_type": "code",
   "execution_count": 32,
   "metadata": {},
   "outputs": [],
   "source": [
    "html_soup = get_soup('https://www.worldometers.info/coronavirus/')"
   ]
  },
  {
   "cell_type": "code",
   "execution_count": 39,
   "metadata": {},
   "outputs": [],
   "source": [
    "def extract_content(soup, index):\n",
    "    content = {}\n",
    "    headers = []\n",
    "    rows = []\n",
    "    for th in soup[0][index].find('tr').find_all('th'):\n",
    "        headers.append(th.text.strip())\n",
    "    content['headers'] = headers\n",
    "    for tr in soup[1][index].find_all('tr')[1:]:\n",
    "        cells = []\n",
    "        # grab all td tags in this table row\n",
    "        tds = tr.find_all('td')\n",
    "        if len(tds) == 0:\n",
    "            # if no td tags, search for th tags\n",
    "            ths = tr.find_all('th')\n",
    "            for th in ths:\n",
    "                cells.append(th.text.strip())\n",
    "        else:\n",
    "            # use regular td tags\n",
    "            for td in tds:\n",
    "                cells.append(td.text.strip())\n",
    "        rows.append(cells)\n",
    "    content['rows'] = rows\n",
    "    return content"
   ]
  },
  {
   "cell_type": "code",
   "execution_count": 40,
   "metadata": {},
   "outputs": [],
   "source": [
    "content = extract_content(html_soup, 0)"
   ]
  },
  {
   "cell_type": "code",
   "execution_count": 41,
   "metadata": {},
   "outputs": [],
   "source": [
    "content['headers'][0] = 'NUMBER'\n",
    "content['headers'][1] = 'COUNTRY_NAME'\n",
    "content['headers'][2] = 'TOTAL_CASES'\n",
    "content['headers'][3] = 'NEW_CASES'\n",
    "content['headers'][4] = 'TOTAL_DEATHS'\n",
    "content['headers'][5] = 'NEW_DEATHS'\n",
    "content['headers'][6] = 'TOTAL_RECOVERED'\n",
    "content['headers'][7] = 'NEW_RECOVERED'\n",
    "content['headers'][8] = 'ACTIVE_CASES'\n",
    "content['headers'][9] = 'CRITICAL_CASES'\n",
    "content['headers'][10] = 'TOTAL_CASES_1M_POP'\n",
    "content['headers'][11] = 'DEATHS_1M_POP'\n",
    "content['headers'][12] = 'TOTAL_TESTS'\n",
    "content['headers'][13] = 'TESTS_1M_POP'\n",
    "content['headers'][14] = 'POPULATION'\n",
    "content['headers'][15] = 'CONTINENT'\n",
    "content['headers'][16] = '1_CASE_EVERY_X_PPL'\n",
    "content['headers'][17] = '1_DEATH_EVERY_X_PPL'\n",
    "content['headers'][18] = '1_TEST_EVERY_X_PPL'"
   ]
  },
  {
   "cell_type": "code",
   "execution_count": 46,
   "metadata": {},
   "outputs": [
    {
     "data": {
      "text/html": [
       "<div>\n",
       "<style scoped>\n",
       "    .dataframe tbody tr th:only-of-type {\n",
       "        vertical-align: middle;\n",
       "    }\n",
       "\n",
       "    .dataframe tbody tr th {\n",
       "        vertical-align: top;\n",
       "    }\n",
       "\n",
       "    .dataframe thead th {\n",
       "        text-align: right;\n",
       "    }\n",
       "</style>\n",
       "<table border=\"1\" class=\"dataframe\">\n",
       "  <thead>\n",
       "    <tr style=\"text-align: right;\">\n",
       "      <th></th>\n",
       "      <th>COUNTRY_NAME</th>\n",
       "      <th>TOTAL_CASES</th>\n",
       "      <th>TOTAL_DEATHS</th>\n",
       "      <th>POPULATION</th>\n",
       "    </tr>\n",
       "  </thead>\n",
       "  <tbody>\n",
       "    <tr>\n",
       "      <th>0</th>\n",
       "      <td>South America</td>\n",
       "      <td>1,146,755</td>\n",
       "      <td>51,046</td>\n",
       "      <td></td>\n",
       "    </tr>\n",
       "    <tr>\n",
       "      <th>1</th>\n",
       "      <td>Europe</td>\n",
       "      <td>2,094,324</td>\n",
       "      <td>178,943</td>\n",
       "      <td></td>\n",
       "    </tr>\n",
       "    <tr>\n",
       "      <th>2</th>\n",
       "      <td>Asia</td>\n",
       "      <td>1,366,210</td>\n",
       "      <td>35,094</td>\n",
       "      <td></td>\n",
       "    </tr>\n",
       "    <tr>\n",
       "      <th>3</th>\n",
       "      <td>Africa</td>\n",
       "      <td>192,118</td>\n",
       "      <td>5,215</td>\n",
       "      <td></td>\n",
       "    </tr>\n",
       "    <tr>\n",
       "      <th>4</th>\n",
       "      <td>Oceania</td>\n",
       "      <td>8,875</td>\n",
       "      <td>124</td>\n",
       "      <td></td>\n",
       "    </tr>\n",
       "    <tr>\n",
       "      <th>...</th>\n",
       "      <td>...</td>\n",
       "      <td>...</td>\n",
       "      <td>...</td>\n",
       "      <td>...</td>\n",
       "    </tr>\n",
       "    <tr>\n",
       "      <th>217</th>\n",
       "      <td>St. Barth</td>\n",
       "      <td>6</td>\n",
       "      <td></td>\n",
       "      <td>9,875</td>\n",
       "    </tr>\n",
       "    <tr>\n",
       "      <th>218</th>\n",
       "      <td>Lesotho</td>\n",
       "      <td>4</td>\n",
       "      <td></td>\n",
       "      <td>2,141,162</td>\n",
       "    </tr>\n",
       "    <tr>\n",
       "      <th>219</th>\n",
       "      <td>Anguilla</td>\n",
       "      <td>3</td>\n",
       "      <td></td>\n",
       "      <td>14,994</td>\n",
       "    </tr>\n",
       "    <tr>\n",
       "      <th>220</th>\n",
       "      <td>Saint Pierre Miquelon</td>\n",
       "      <td>1</td>\n",
       "      <td></td>\n",
       "      <td>5,796</td>\n",
       "    </tr>\n",
       "    <tr>\n",
       "      <th>221</th>\n",
       "      <td>China</td>\n",
       "      <td>83,040</td>\n",
       "      <td>4,634</td>\n",
       "      <td>1,439,323,776</td>\n",
       "    </tr>\n",
       "  </tbody>\n",
       "</table>\n",
       "<p>222 rows × 4 columns</p>\n",
       "</div>"
      ],
      "text/plain": [
       "              COUNTRY_NAME TOTAL_CASES TOTAL_DEATHS     POPULATION\n",
       "0            South America   1,146,755       51,046               \n",
       "1                   Europe   2,094,324      178,943               \n",
       "2                     Asia   1,366,210       35,094               \n",
       "3                   Africa     192,118        5,215               \n",
       "4                  Oceania       8,875          124               \n",
       "..                     ...         ...          ...            ...\n",
       "217              St. Barth           6                       9,875\n",
       "218                Lesotho           4                   2,141,162\n",
       "219               Anguilla           3                      14,994\n",
       "220  Saint Pierre Miquelon           1                       5,796\n",
       "221                  China      83,040        4,634  1,439,323,776\n",
       "\n",
       "[222 rows x 4 columns]"
      ]
     },
     "execution_count": 46,
     "metadata": {},
     "output_type": "execute_result"
    }
   ],
   "source": [
    "df = pd.DataFrame(content['rows'], columns=content['headers'])\n",
    "df_subset = df[['COUNTRY_NAME', 'TOTAL_CASES', 'TOTAL_DEATHS', 'POPULATION']]\n",
    "df_subset"
   ]
  },
  {
   "cell_type": "code",
   "execution_count": 49,
   "metadata": {},
   "outputs": [
    {
     "data": {
      "text/html": [
       "<div>\n",
       "<style scoped>\n",
       "    .dataframe tbody tr th:only-of-type {\n",
       "        vertical-align: middle;\n",
       "    }\n",
       "\n",
       "    .dataframe tbody tr th {\n",
       "        vertical-align: top;\n",
       "    }\n",
       "\n",
       "    .dataframe thead th {\n",
       "        text-align: right;\n",
       "    }\n",
       "</style>\n",
       "<table border=\"1\" class=\"dataframe\">\n",
       "  <thead>\n",
       "    <tr style=\"text-align: right;\">\n",
       "      <th></th>\n",
       "      <th>COUNTRY_NAME</th>\n",
       "      <th>TOTAL_CASES</th>\n",
       "      <th>TOTAL_DEATHS</th>\n",
       "      <th>POPULATION</th>\n",
       "    </tr>\n",
       "  </thead>\n",
       "  <tbody>\n",
       "    <tr>\n",
       "      <th>8</th>\n",
       "      <td>Brazil</td>\n",
       "      <td>691,962</td>\n",
       "      <td>37,312</td>\n",
       "      <td>212,463,372</td>\n",
       "    </tr>\n",
       "  </tbody>\n",
       "</table>\n",
       "</div>"
      ],
      "text/plain": [
       "  COUNTRY_NAME TOTAL_CASES TOTAL_DEATHS   POPULATION\n",
       "8       Brazil     691,962       37,312  212,463,372"
      ]
     },
     "execution_count": 49,
     "metadata": {},
     "output_type": "execute_result"
    }
   ],
   "source": [
    "df_subset.loc[df_subset['COUNTRY_NAME'] == 'Brazil']"
   ]
  }
 ],
 "metadata": {
  "kernelspec": {
   "display_name": "Python 3",
   "language": "python",
   "name": "python3"
  },
  "language_info": {
   "codemirror_mode": {
    "name": "ipython",
    "version": 3
   },
   "file_extension": ".py",
   "mimetype": "text/x-python",
   "name": "python",
   "nbconvert_exporter": "python",
   "pygments_lexer": "ipython3",
   "version": "3.7.6"
  }
 },
 "nbformat": 4,
 "nbformat_minor": 4
}
